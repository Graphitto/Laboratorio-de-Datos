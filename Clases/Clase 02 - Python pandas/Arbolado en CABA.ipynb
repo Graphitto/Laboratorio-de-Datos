{
 "cells": [
  {
   "cell_type": "markdown",
   "id": "6548d62b-e641-4f6a-8887-eab40a845893",
   "metadata": {},
   "source": [
    "# Base de datos de árboles en CABA\n",
    "\n",
    "Importamos la versión de 2011: https://data.buenosaires.gob.ar/dataset/arbolado-espacios-verdes\n",
    "\n",
    "- [Ejercicio 1](#ej-1) - Armar dataframes para Jacarandás y Palos borrachos\n",
    "- [Ejercicio 2](#ej-2) - Cálculos para cada una de las especies\n",
    "- [Ejercicio 3](#ej-3) - Cantidad de árboles nativos de cada especie"
   ]
  },
  {
   "cell_type": "markdown",
   "id": "c6771c66-a08d-4091-a393-432194532606",
   "metadata": {},
   "source": [
    "## Import y estructura del dataset"
   ]
  },
  {
   "cell_type": "code",
   "execution_count": 180,
   "id": "23379c72-cd2c-48bf-a73f-2f26336d27f9",
   "metadata": {},
   "outputs": [
    {
     "name": "stdout",
     "output_type": "stream",
     "text": [
      "<class 'pandas.core.frame.DataFrame'>\n",
      "Index: 51502 entries, 1 to 51729\n",
      "Data columns (total 16 columns):\n",
      " #   Column      Non-Null Count  Dtype  \n",
      "---  ------      --------------  -----  \n",
      " 0   long        51502 non-null  float64\n",
      " 1   lat         51502 non-null  float64\n",
      " 2   altura_tot  51502 non-null  int64  \n",
      " 3   diametro    51502 non-null  int64  \n",
      " 4   inclinacio  51502 non-null  int64  \n",
      " 5   id_especie  51502 non-null  int64  \n",
      " 6   nombre_com  51502 non-null  object \n",
      " 7   nombre_cie  51502 non-null  object \n",
      " 8   tipo_folla  51502 non-null  object \n",
      " 9   espacio_ve  51502 non-null  object \n",
      " 10  ubicacion   50529 non-null  object \n",
      " 11  nombre_fam  51502 non-null  object \n",
      " 12  nombre_gen  51502 non-null  object \n",
      " 13  origen      51502 non-null  object \n",
      " 14  coord_x     51502 non-null  float64\n",
      " 15  coord_y     51502 non-null  float64\n",
      "dtypes: float64(4), int64(4), object(8)\n",
      "memory usage: 6.7+ MB\n"
     ]
    }
   ],
   "source": [
    "import pandas as pd\n",
    "\n",
    "archivo = 'Materiales/arbolado-en-espacios-verdes.csv'\n",
    "df = pd.read_csv(archivo, index_col = 2)\n",
    "\n",
    "# df.head(5) # Mostrar algunas entradas\n",
    "# df.columns # Analizamos columnas, aunque mejor puede ser con df.info, para ver la cantidad de entradas no NaN\n",
    "df.info()"
   ]
  },
  {
   "cell_type": "markdown",
   "id": "01bacbe0-3b5e-455f-bf3b-04d65ba649dc",
   "metadata": {},
   "source": [
    "## Ejercicio 1<a class=\"anchor\" id='ej1'></a>\n",
    "#### Armar un dataframe que contenga las filas de Jacarandás y otro con Palos borrachos\n",
    "\n",
    "Primero vemos si hay distintas especies de cada una, o si el nombre está un poco modificado, si hay variantes, etc."
   ]
  },
  {
   "cell_type": "code",
   "execution_count": 55,
   "id": "f219e748-2bd9-42b3-ac92-fa6ab35d6cf3",
   "metadata": {},
   "outputs": [
    {
     "data": {
      "text/plain": [
       "nombre_fam\n",
       "Aceráceas        645\n",
       "Adoxaceae          1\n",
       "Agavaceae          8\n",
       "Anacardiáceas    173\n",
       "Apocynaceae       43\n",
       "Name: long, dtype: int64"
      ]
     },
     "execution_count": 55,
     "metadata": {},
     "output_type": "execute_result"
    }
   ],
   "source": [
    "df['nombre_com'].unique() # Mostrar todos los nombres distintos (entre ellos, aparece Palo borracho pero no da el tamaño de jupyter para mostrarlo...)\n",
    "\n",
    "# También podemos mostrar cuántos árboles hay de cada tipo, filtrando, pero quedándonos con el límite de jupyter (60~70)\n",
    "df.groupby(by='nombre_fam')['long'].count().head(5)"
   ]
  },
  {
   "cell_type": "markdown",
   "id": "6469357a-d79b-4d19-a9f8-553abd313d29",
   "metadata": {},
   "source": [
    "Buscamos Jacarandás, que podrían estar escritos con o sin tilde."
   ]
  },
  {
   "cell_type": "code",
   "execution_count": 178,
   "id": "2d6a6c6b-b4f8-44b3-a686-08ec16137e19",
   "metadata": {},
   "outputs": [
    {
     "name": "stdout",
     "output_type": "stream",
     "text": [
      "Hay en total 3255 entradas para los tipos de arboles Jacarandá\n"
     ]
    }
   ],
   "source": [
    "# Buscar Jacarandás\n",
    "df_jacarandas = df[df['nombre_com'] == 'Jacarandá'] # Esto funciona en este caso porque no hay variaciones en Jacarandás, pero lo mejor sería hacer:\n",
    "df_jacarandas = df[df['nombre_com'].str.contains('Jacarandá|Jacaranda')] # El '|' funciona como OR pero al ser CONTAINS, cualquier cadena que los contenga funcionará\n",
    "df_jacarandas = df[df['nombre_com'].str.contains('|'.join(['Jacarandá','Jacaranda']))] # Forma alternativa de lo anterior\n",
    "df_jacarandas = df[df['nombre_com'].isin(['Jacarandá','Jacaranda'])] # Usando ISIN se busca los valores que coinciden EXACTAMENTE\n",
    "\n",
    "print(f'Hay en total {df_jacarandas.shape[0]} entradas para los tipos de arboles {df_jacarandas['nombre_com'].unique()[0]}')\n",
    "# df_jacarandas.info()"
   ]
  },
  {
   "cell_type": "markdown",
   "id": "e6e25a63-d797-4e1f-ad91-3719c1248c23",
   "metadata": {},
   "source": [
    "Búsqueda de palos borrachos, que en principio podrían ser simplemente 'palos borrachos', pero se encontraron dos variantes más."
   ]
  },
  {
   "cell_type": "code",
   "execution_count": 79,
   "id": "a06e7014-387d-4fa5-a7e3-d446f24afa4f",
   "metadata": {},
   "outputs": [
    {
     "name": "stdout",
     "output_type": "stream",
     "text": [
      "Hay en total 3403 entradas para los tipos de arboles ['Palo borracho rosado' 'Palo borracho' 'Palo borracho blanco'])\n",
      "\n",
      "Resumen por tipo:\n",
      "Hay en total 3150 entradas para el tipo Palo borracho rosado\n",
      "Hay en total 119 entradas para el tipo Palo borracho\n",
      "Hay en total 134 entradas para el tipo Palo borracho blanco\n"
     ]
    }
   ],
   "source": [
    "# df_palos_borrachos = df[df['nombre_com'][:(len('Palo borracho'))] == 'Palo borracho'] # No funciona... mejor usar el contains\n",
    "df_palos_borrachos = df[df['nombre_com'].str.contains('Palo borracho')]\n",
    "\n",
    "print(f'Hay en total {df_palos_borrachos.shape[0]} entradas para los tipos de arboles {df_palos_borrachos['nombre_com'].unique()})')\n",
    "\n",
    "print('\\nResumen por tipo:')\n",
    "for tipo in df_palos_borrachos['nombre_com'].unique():\n",
    "    print(f'Hay en total {df_palos_borrachos[df_palos_borrachos['nombre_com'] == tipo].shape[0]} entradas para el tipo {tipo}')\n",
    "\n",
    "# Seguimos trabajando solo con el tipo 'Palo borracho'\n",
    "df_palos_borrachos = df_palos_borrachos[df_palos_borrachos['nombre_com'] == 'Palo borracho']"
   ]
  },
  {
   "cell_type": "markdown",
   "id": "ca6627c0-ecd8-4649-88e9-166fab829122",
   "metadata": {},
   "source": [
    "<a class=\"anchor\" id='ej2'></a>\n",
    "## Ejercicio 2\n",
    "\n",
    "#### Calcular para cada especie seleccionada\n",
    "1. Cantidad de árboles, altura máxima, mínima y promedio, diámetro máximo, mínimo y promedio\n",
    "2. Definir una función cantidad_arboles(parque) que, dado el nombre de un parque, calcule la cantidad de árboles que tiene."
   ]
  },
  {
   "cell_type": "code",
   "execution_count": 173,
   "id": "32f75e82-beb3-4089-944d-a5cf34eefafd",
   "metadata": {},
   "outputs": [
    {
     "data": {
      "text/html": [
       "<div>\n",
       "<style scoped>\n",
       "    .dataframe tbody tr th:only-of-type {\n",
       "        vertical-align: middle;\n",
       "    }\n",
       "\n",
       "    .dataframe tbody tr th {\n",
       "        vertical-align: top;\n",
       "    }\n",
       "\n",
       "    .dataframe thead th {\n",
       "        text-align: right;\n",
       "    }\n",
       "</style>\n",
       "<table border=\"1\" class=\"dataframe\">\n",
       "  <thead>\n",
       "    <tr style=\"text-align: right;\">\n",
       "      <th></th>\n",
       "      <th>cantidad_arboles</th>\n",
       "      <th>altura_maxima</th>\n",
       "      <th>altura_minima</th>\n",
       "      <th>altura_promedio</th>\n",
       "      <th>diametro_maximo</th>\n",
       "      <th>diametro_minimo</th>\n",
       "      <th>diametro_promedio</th>\n",
       "    </tr>\n",
       "  </thead>\n",
       "  <tbody>\n",
       "    <tr>\n",
       "      <th>Jacarandá</th>\n",
       "      <td>3255.0</td>\n",
       "      <td>49.0</td>\n",
       "      <td>1.0</td>\n",
       "      <td>10.369585</td>\n",
       "      <td>159.0</td>\n",
       "      <td>1.0</td>\n",
       "      <td>28.804301</td>\n",
       "    </tr>\n",
       "    <tr>\n",
       "      <th>Palo borracho</th>\n",
       "      <td>119.0</td>\n",
       "      <td>33.0</td>\n",
       "      <td>1.0</td>\n",
       "      <td>9.882353</td>\n",
       "      <td>130.0</td>\n",
       "      <td>1.0</td>\n",
       "      <td>43.436975</td>\n",
       "    </tr>\n",
       "  </tbody>\n",
       "</table>\n",
       "</div>"
      ],
      "text/plain": [
       "               cantidad_arboles  altura_maxima  altura_minima  \\\n",
       "Jacarandá                3255.0           49.0            1.0   \n",
       "Palo borracho             119.0           33.0            1.0   \n",
       "\n",
       "               altura_promedio  diametro_maximo  diametro_minimo  \\\n",
       "Jacarandá            10.369585            159.0              1.0   \n",
       "Palo borracho         9.882353            130.0              1.0   \n",
       "\n",
       "               diametro_promedio  \n",
       "Jacarandá              28.804301  \n",
       "Palo borracho          43.436975  "
      ]
     },
     "execution_count": 173,
     "metadata": {},
     "output_type": "execute_result"
    }
   ],
   "source": [
    "# Ejercicio 2.1\n",
    "\n",
    "tipos_a_buscar = ['Jacarandá','Palo borracho']\n",
    "temp_df = df[df['nombre_com'].isin(tipos_a_buscar)]\n",
    "\n",
    "temp_df\n",
    "\n",
    "res_df = pd.DataFrame(columns=['cantidad_arboles','altura_maxima','altura_minima','altura_promedio','diametro_maximo','diametro_minimo','diametro_promedio'])\n",
    "for nombre in temp_df['nombre_com'].unique():\n",
    "    # curr_df.reset_index() # en caso de querer acceder a la posición cero, por ejemplo\n",
    "    curr_df = df[df['nombre_com'] == nombre]\n",
    "    res_df.loc[nombre] = [curr_df.shape[0],\n",
    "                          curr_df['altura_tot'].max(),\n",
    "                          curr_df['altura_tot'].min(),\n",
    "                          curr_df['altura_tot'].mean(),\n",
    "                          curr_df['diametro'].max(),\n",
    "                          curr_df['diametro'].min(),\n",
    "                          curr_df['diametro'].mean()]\n",
    "\n",
    "res_df"
   ]
  },
  {
   "cell_type": "code",
   "execution_count": 174,
   "id": "49116482-677a-463d-9deb-4f60b5f58e91",
   "metadata": {},
   "outputs": [
    {
     "data": {
      "text/plain": [
       "782"
      ]
     },
     "execution_count": 174,
     "metadata": {},
     "output_type": "execute_result"
    }
   ],
   "source": [
    "# Ejercicio 2.2\n",
    "\n",
    "def cantidad_arboles(nombre_parque):\n",
    "    '''\n",
    "        Descripcion: dado el nombre de un parque, devuelve la cantidad de arboles contenidos en ese espacio verde\n",
    "        :param nombre_parque: str que indica el nombre de parque\n",
    "        :returns: la cantidad de arboles que coinciden el nombre_parque con la columna espacio_ve de la base de datos\n",
    "    '''\n",
    "    return df[df['espacio_ve'] == nombre_parque].shape[0]\n",
    "\n",
    "cantidad_arboles('SICILIA')"
   ]
  },
  {
   "cell_type": "markdown",
   "id": "ca4db644-2629-44c5-8430-cf4999e72767",
   "metadata": {},
   "source": [
    "## Ejercicio 3<a class=\"anchor\" id='ej3'></a>\n",
    "\n",
    "#### Definir una función cantidad_nativos(parque) que calcule la cantidad de árboles nativos."
   ]
  },
  {
   "cell_type": "code",
   "execution_count": 182,
   "id": "70b2f1ee-bbf6-447d-bb03-7760b988cdb0",
   "metadata": {},
   "outputs": [
    {
     "data": {
      "text/plain": [
       "159"
      ]
     },
     "execution_count": 182,
     "metadata": {},
     "output_type": "execute_result"
    }
   ],
   "source": [
    "def cantidad_nativos(nombre_parque):\n",
    "    '''\n",
    "        Descripcion: dado el nombre de un parque, devuelve la cantidad de arboles nativos\n",
    "        :param nombre_parque: str que indica el nombre de parque\n",
    "        :returns: la cantidad de arboles que coinciden el nombre_parque con la columna espacio_ve de la base de datos\n",
    "    '''\n",
    "    return df[(df['origen'].str.contains('Nativo')) & (df['espacio_ve'] == nombre_parque)].shape[0]\n",
    "\n",
    "cantidad_nativos('GENERAL PAZ')"
   ]
  },
  {
   "cell_type": "code",
   "execution_count": null,
   "id": "6f5eb774-7951-4d7f-a581-d95406aeefc4",
   "metadata": {},
   "outputs": [],
   "source": []
  },
  {
   "cell_type": "code",
   "execution_count": 176,
   "id": "7e3e0e78-8fc3-464d-9c89-9469d9e558fd",
   "metadata": {},
   "outputs": [],
   "source": [
    "# Otros comandos\n",
    "\n",
    "# df.groupby(by='nombre_fam')['long'].count().head(60)"
   ]
  }
 ],
 "metadata": {
  "kernelspec": {
   "display_name": "Python 3 (ipykernel)",
   "language": "python",
   "name": "python3"
  },
  "language_info": {
   "codemirror_mode": {
    "name": "ipython",
    "version": 3
   },
   "file_extension": ".py",
   "mimetype": "text/x-python",
   "name": "python",
   "nbconvert_exporter": "python",
   "pygments_lexer": "ipython3",
   "version": "3.12.4"
  }
 },
 "nbformat": 4,
 "nbformat_minor": 5
}
