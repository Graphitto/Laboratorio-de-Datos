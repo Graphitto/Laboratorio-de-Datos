{
 "cells": [
  {
   "cell_type": "markdown",
   "id": "94822398-67ac-4a08-b922-8ac1cbfc0b5d",
   "metadata": {},
   "source": [
    "# Práctica 2\n",
    "#### Análisis sobre datos de árboles en CABA\n",
    "\n",
    "Dataset usado: [Arbolado en espacios verdes](https://data.buenosaires.gob.ar/dataset/arbolado-espacios-verdes)\n",
    "\n",
    "-------"
   ]
  },
  {
   "cell_type": "markdown",
   "id": "109a9fe8-39ed-4fe0-bbcb-b88d6b2b73e3",
   "metadata": {},
   "source": [
    "### Preparación de datos"
   ]
  },
  {
   "cell_type": "code",
   "execution_count": 2,
   "id": "160f4bbf-19ce-42e8-84d2-db655ff405ff",
   "metadata": {},
   "outputs": [],
   "source": [
    "import pandas as pd"
   ]
  },
  {
   "cell_type": "code",
   "execution_count": 11,
   "id": "f7b96b5d-ade3-4b4b-9de1-70c8a242f70a",
   "metadata": {},
   "outputs": [
    {
     "data": {
      "text/plain": [
       "long          float64\n",
       "lat           float64\n",
       "id_arbol        int64\n",
       "altura_tot      int64\n",
       "diametro        int64\n",
       "inclinacio      int64\n",
       "id_especie      int64\n",
       "nombre_com     object\n",
       "nombre_cie     object\n",
       "tipo_folla     object\n",
       "espacio_ve     object\n",
       "ubicacion      object\n",
       "nombre_fam     object\n",
       "nombre_gen     object\n",
       "origen         object\n",
       "coord_x       float64\n",
       "coord_y       float64\n",
       "dtype: object"
      ]
     },
     "execution_count": 11,
     "metadata": {},
     "output_type": "execute_result"
    }
   ],
   "source": [
    "def refrescar_arboles():\n",
    "    return pd.read_csv(\"Materiales/arbolado-en-espacios-verdes.csv\")\n",
    "\n",
    "arboles = refrescar_arboles()\n",
    "arboles.dtypes"
   ]
  },
  {
   "cell_type": "markdown",
   "id": "fd76c081-29f0-4567-9386-480484ad8c16",
   "metadata": {},
   "source": [
    "---------\n",
    "\n",
    "### Ejercicio 1\n",
    "\n",
    "Definir una función leer_parque(nombre_archivo, parque) que abra el \n",
    "archivo indicado y devuelva una lista de diccionarios con la información de \r\n",
    "parque especificado. La lista debe tener un diccionario por cada árbol del parq e\r\n",
    "elegido. Dicho diccionario debe tener los datos correspondientes a un ár ol\r\n",
    "(recordar que cada fila del csv corresponde a un árb l).\r\n",
    "Probar la función en el parque ‘GENERAL PAZ’ y debería dar una lista co  690\r\n",
    "á.rboles"
   ]
  },
  {
   "cell_type": "code",
   "execution_count": 35,
   "id": "bc3f40d3-f160-446b-8bd1-73e8a508f3f4",
   "metadata": {},
   "outputs": [
    {
     "data": {
      "text/plain": [
       "[{'long': -58.5050933042,\n",
       "  'lat': -34.5675817714,\n",
       "  'id_arbol': 1380,\n",
       "  'altura_tot': 20,\n",
       "  'diametro': 33,\n",
       "  'inclinacio': 5,\n",
       "  'id_especie': 330,\n",
       "  'nombre_com': 'Eucalipto',\n",
       "  'nombre_cie': 'Eucalyptus sp.',\n",
       "  'tipo_folla': 'Árbol Latifoliado Perenne',\n",
       "  'espacio_ve': 'GENERAL PAZ',\n",
       "  'ubicacion': 'LARRALDE, CRISOLOGO, AV. - PAZ, GRAL., AV.- AIZPURUA',\n",
       "  'nombre_fam': 'Mirtáceas',\n",
       "  'nombre_gen': 'Eucalyptus',\n",
       "  'origen': 'Exótico',\n",
       "  'coord_x': 96164.756178,\n",
       "  'coord_y': 106842.465407}]"
      ]
     },
     "execution_count": 35,
     "metadata": {},
     "output_type": "execute_result"
    }
   ],
   "source": [
    "def leer_parque(nombre_archivo, parque):\n",
    "    trees = pd.read_csv(\"Materiales/arbolado-en-espacios-verdes.csv\")\n",
    "    trees = trees[trees['espacio_ve'] == parque]\n",
    "    return trees.to_dict(orient='records')\n",
    "\n",
    "len(leer_parque(\"Materiales/arbolado-en-espacios-verdes.csv\", \"GENERAL PAZ\")) # 690\n",
    "res_ej1 = leer_parque(\"Materiales/arbolado-en-espacios-verdes.csv\", \"GENERAL PAZ\")\n",
    "\n",
    "leer_parque(\"Materiales/arbolado-en-espacios-verdes.csv\", \"GENERAL PAZ\")[:1]"
   ]
  },
  {
   "cell_type": "markdown",
   "id": "ad4e5ade-efca-4091-9dbe-34f58ce8fa44",
   "metadata": {},
   "source": [
    "---------\n",
    "\n",
    "### Ejercicio 2\n",
    "\n",
    "Escribir una función especies(lista_arboles) que tome una lista de árboles \n",
    "como la generada en el ejercicio anterior y devuelva el conjunto de especies (l \r\n",
    "columna 'nombre_com' del archivo) que figuran en la list.\r"
   ]
  },
  {
   "cell_type": "code",
   "execution_count": 50,
   "id": "d7540c50-46e7-4d39-ac1f-d36f37683c8d",
   "metadata": {},
   "outputs": [
    {
     "data": {
      "text/plain": [
       "{'Acacia blanca',\n",
       " 'Acacia negra',\n",
       " 'Alcanforero',\n",
       " 'Arce negundo',\n",
       " 'Bunya-bunya (Araucaria de Bidwill)',\n",
       " 'Caqui',\n",
       " 'Casuarina',\n",
       " 'Cedrela',\n",
       " 'Cedro',\n",
       " 'Cedro de San Juan',\n",
       " 'Cedro del Atlas (Cedro plateado o Cedro atlántico)',\n",
       " 'Cedro del Himalaya',\n",
       " 'Cedro del Himalaya variedad aurea',\n",
       " 'Ceibo',\n",
       " 'Chamaecyparis',\n",
       " 'Ciprés',\n",
       " 'Ciprés blanco',\n",
       " 'Ciprés calvo',\n",
       " 'Ciprés leylandi',\n",
       " 'Corona de cristo',\n",
       " 'Criptomeria (Cedro del Japón)',\n",
       " 'Eucalipto',\n",
       " 'Falso Guayabo (Guayaba del Brasil)',\n",
       " 'Fenix',\n",
       " 'Ficus',\n",
       " 'Fotinia',\n",
       " 'Fresno (Fresno común)',\n",
       " 'Fresno americano',\n",
       " 'Ginkgo',\n",
       " 'Jacarandá',\n",
       " 'Juniperus',\n",
       " 'Lapacho rosado',\n",
       " 'Laurel de jardin (Laurel de flor)',\n",
       " 'Laurus',\n",
       " 'Libocedro (Calocedro)',\n",
       " 'Ligustro',\n",
       " 'Ligustro disciplinado (Ligustro variegado)',\n",
       " 'Limpiatubos',\n",
       " 'Liquidambar',\n",
       " 'Macrocarpa (Ciprés de Monterrey o Ciprés de Lambert)',\n",
       " 'Magnolia',\n",
       " 'Morera blanca',\n",
       " 'Morera de papel (Moral de China)',\n",
       " 'Morera negra',\n",
       " 'No Determinable',\n",
       " 'No Determinado',\n",
       " 'Nogal europeo (Nogal común)',\n",
       " 'Níspero japonés',\n",
       " 'Olea',\n",
       " 'Olivo',\n",
       " 'Olivo oloroso',\n",
       " 'Olmo',\n",
       " 'Olmo europeo',\n",
       " 'Ombú',\n",
       " 'Palma Bangalow  (Palma Rey)',\n",
       " 'Palma de california',\n",
       " 'Palmito',\n",
       " 'Palo borracho rosado',\n",
       " 'Paraíso',\n",
       " 'Pindó',\n",
       " 'Pino',\n",
       " 'Pino carrasco (Pino de Jerusalén)',\n",
       " 'Pino de las canarias',\n",
       " 'Pino del Paraná (Pino de Misiones o Pino de Brasil)',\n",
       " 'Plátano',\n",
       " 'Roble',\n",
       " 'Roble americano',\n",
       " 'Roble común',\n",
       " 'Roble sedoso (Grevillea)',\n",
       " 'Sauce eléctrico',\n",
       " 'Tilo',\n",
       " 'Timbó (Oreja de negro)',\n",
       " 'Tipa blanca',\n",
       " 'Tuja',\n",
       " 'Tuya oriental',\n",
       " 'Visco (Viscote, Arca)',\n",
       " 'Washingtonia',\n",
       " 'Washingtonia (Palmera washingtonia)',\n",
       " 'Álamo blanco piramidal',\n",
       " 'Álamo negro',\n",
       " 'Árbol del cielo (Ailanto o Árbol de los dioses)'}"
      ]
     },
     "execution_count": 50,
     "metadata": {},
     "output_type": "execute_result"
    }
   ],
   "source": [
    "def especies(lista_arboles):\n",
    "    '''\n",
    "        lista_arboles: list(dict()), tal como se devuelve en leer_parque(...)\n",
    "        return: set de especies contenidas en lista_arboles\n",
    "    '''\n",
    "    # Opcion 1\n",
    "    trees = pd.DataFrame(lista_arboles)['nombre_com'].unique()\n",
    "    return trees\n",
    "\n",
    "ej2_generalpaz = leer_parque(\"Materiales/arbolado-en-espacios-verdes.csv\", \"GENERAL PAZ\")\n",
    "res_ej2 = set(especies(ej2_generalpaz))\n",
    "\n",
    "set(especies(ej2_generalpaz))"
   ]
  },
  {
   "cell_type": "markdown",
   "id": "595bb5c9-475e-42b7-a6dc-af75b47ba182",
   "metadata": {},
   "source": [
    "---------\n",
    "\n",
    "### Ejercicio 3\n",
    "\n",
    "\n",
    "Escribir una función contar_ejemplares(lista_arboles) que, dada una lista como la generada con leer_parque(...), devuelva un diccionario en el que las especies sean las claves y tengan como valores asociados la cantidad de ejemplares en esa especie en la lista dada. Debería verse que en el parque General Paz hay 20 Jacarandás, en el Parque Los Andes hay 3 Tilos y en Parque Centenario hay 1 Laurel.\n"
   ]
  },
  {
   "cell_type": "code",
   "execution_count": 71,
   "id": "b457694e-4254-4886-892e-7774e0419e92",
   "metadata": {},
   "outputs": [
    {
     "data": {
      "text/plain": [
       "{'Jacarandá': 117,\n",
       " 'Tipa blanca': 28,\n",
       " 'Ciprés': 21,\n",
       " 'Palo borracho rosado': 18,\n",
       " 'Lapacho': 12,\n",
       " 'Pindó': 12,\n",
       " 'Plátano': 12,\n",
       " 'Ligustro': 7,\n",
       " 'Fresno americano': 7,\n",
       " 'Pino': 6,\n",
       " 'Ginkgo': 6,\n",
       " 'Cedro': 5,\n",
       " 'Eucalipto': 5,\n",
       " 'Gomero': 4,\n",
       " 'Pata de vaca  (Pezuña de vaca)': 4,\n",
       " 'Cedro del Himalaya': 4,\n",
       " 'Arce negundo': 4,\n",
       " 'Sófora japónica': 4,\n",
       " 'Aguaribay': 3,\n",
       " 'Acacia': 3,\n",
       " 'Tilo': 3,\n",
       " 'Morera blanca': 3,\n",
       " 'Árbol del cielo (Ailanto o Árbol de los dioses)': 2,\n",
       " 'Pino del Paraná (Pino de Misiones o Pino de Brasil)': 2,\n",
       " 'Acacia frisia': 2,\n",
       " 'Casuarina': 2,\n",
       " 'Pino de las canarias': 2,\n",
       " 'Olmo europeo': 2,\n",
       " 'Acacia blanca': 2,\n",
       " 'Libocedro (Calocedro)': 1,\n",
       " 'Liquidambar': 1,\n",
       " 'Morus': 1,\n",
       " 'Encina': 1,\n",
       " 'Almez (Almecino o Almecina)': 1,\n",
       " 'Álamo plateado': 1,\n",
       " 'Laurel': 1,\n",
       " 'Trachycarpus': 1,\n",
       " 'Fresno (Fresno común)': 1,\n",
       " 'Paraíso': 1,\n",
       " 'Kauri de corteza lisa': 1,\n",
       " 'Ficus': 1,\n",
       " 'Corona de cristo': 1,\n",
       " 'Ciprés calvo': 1}"
      ]
     },
     "execution_count": 71,
     "metadata": {},
     "output_type": "execute_result"
    }
   ],
   "source": [
    "def contar_ejemplares(lista_arboles):\n",
    "    trees = pd.DataFrame(lista_arboles)['nombre_com'].value_counts()\n",
    "    return trees\n",
    "\n",
    "# ej3_generalpaz = leer_parque(\"Materiales/arbolado-en-espacios-verdes.csv\", \"GENERAL PAZ\")\n",
    "ej3_losandes = leer_parque(\"Materiales/arbolado-en-espacios-verdes.csv\", \"ANDES, LOS\")\n",
    "# ej3_centenario = leer_parque(\"Materiales/arbolado-en-espacios-verdes.csv\", \"CENTENARIO\")\n",
    "\n",
    "contar_ejemplares(ej3_losandes).to_dict()"
   ]
  },
  {
   "cell_type": "markdown",
   "id": "36c4eaec-ece5-4d05-99e8-ba7ac855cf82",
   "metadata": {},
   "source": [
    "---------\n",
    "\n",
    "### Ejercicio 4\n",
    "\n",
    "\n",
    "Escribir una función obtener_alturas(lista_arboles, especie) que, \n",
    "dada una lista como la generada con leer_parque(...) y una especie d \r\n",
    "árbol (un valor de la columna 'nombre_com' del archivo), devuelva una lista c n\r\n",
    "las alturas (columna 'altura_tot') de los ejemplares de esa especie en la lista."
   ]
  },
  {
   "cell_type": "code",
   "execution_count": 76,
   "id": "00be92a0-77b0-4004-8e78-667ea175a9f9",
   "metadata": {},
   "outputs": [
    {
     "data": {
      "text/plain": [
       "int"
      ]
     },
     "execution_count": 76,
     "metadata": {},
     "output_type": "execute_result"
    }
   ],
   "source": [
    "def obtener_alturas(lista_arboles, especie):\n",
    "    trees = pd.DataFrame(lista_arboles)\n",
    "    res = trees[trees['nombre_com'] == especie]['altura_tot']\n",
    "    return list(res)\n",
    "\n",
    "ej4_generalpaz = leer_parque(\"Materiales/arbolado-en-espacios-verdes.csv\", \"GENERAL PAZ\")\n",
    "type(obtener_alturas(ej4_generalpaz, 'Jacarandá')[0])"
   ]
  },
  {
   "cell_type": "markdown",
   "id": "7dd14b3d-3671-48af-a53d-b87dc3e0a64d",
   "metadata": {},
   "source": [
    "---------\n",
    "\n",
    "### Ejercicio 5\n",
    "\n",
    "s"
   ]
  },
  {
   "cell_type": "code",
   "execution_count": null,
   "id": "485d5e45-a486-45a0-af3a-52113ceb8383",
   "metadata": {},
   "outputs": [],
   "source": []
  },
  {
   "cell_type": "code",
   "execution_count": null,
   "id": "3b1f0396-97e0-421f-bb57-f82c5f1f381f",
   "metadata": {},
   "outputs": [],
   "source": []
  },
  {
   "cell_type": "code",
   "execution_count": null,
   "id": "e699546a-e8cc-4278-844f-df9e23a4c237",
   "metadata": {},
   "outputs": [],
   "source": []
  }
 ],
 "metadata": {
  "kernelspec": {
   "display_name": "Python 3 (ipykernel)",
   "language": "python",
   "name": "python3"
  },
  "language_info": {
   "codemirror_mode": {
    "name": "ipython",
    "version": 3
   },
   "file_extension": ".py",
   "mimetype": "text/x-python",
   "name": "python",
   "nbconvert_exporter": "python",
   "pygments_lexer": "ipython3",
   "version": "3.12.4"
  }
 },
 "nbformat": 4,
 "nbformat_minor": 5
}
