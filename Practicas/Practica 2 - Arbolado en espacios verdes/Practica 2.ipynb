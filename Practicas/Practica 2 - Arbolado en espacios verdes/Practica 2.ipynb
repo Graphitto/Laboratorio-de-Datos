{
 "cells": [
  {
   "cell_type": "markdown",
   "id": "94822398-67ac-4a08-b922-8ac1cbfc0b5d",
   "metadata": {},
   "source": [
    "# Práctica 2\n",
    "#### Análisis sobre datos de árboles en CABA (en espacios verdes)\n",
    "\n",
    "Dataset usado: [Arbolado en espacios verdes](https://data.buenosaires.gob.ar/dataset/arbolado-espacios-verdes)\n",
    "\n",
    "-------"
   ]
  },
  {
   "cell_type": "markdown",
   "id": "109a9fe8-39ed-4fe0-bbcb-b88d6b2b73e3",
   "metadata": {},
   "source": [
    "### Preparación de datos"
   ]
  },
  {
   "cell_type": "code",
   "execution_count": 177,
   "id": "160f4bbf-19ce-42e8-84d2-db655ff405ff",
   "metadata": {},
   "outputs": [],
   "source": [
    "import pandas as pd\n",
    "import matplotlib.pyplot as plt"
   ]
  },
  {
   "cell_type": "code",
   "execution_count": 2,
   "id": "f7b96b5d-ade3-4b4b-9de1-70c8a242f70a",
   "metadata": {},
   "outputs": [
    {
     "data": {
      "text/plain": [
       "long          float64\n",
       "lat           float64\n",
       "id_arbol        int64\n",
       "altura_tot      int64\n",
       "diametro        int64\n",
       "inclinacio      int64\n",
       "id_especie      int64\n",
       "nombre_com     object\n",
       "nombre_cie     object\n",
       "tipo_folla     object\n",
       "espacio_ve     object\n",
       "ubicacion      object\n",
       "nombre_fam     object\n",
       "nombre_gen     object\n",
       "origen         object\n",
       "coord_x       float64\n",
       "coord_y       float64\n",
       "dtype: object"
      ]
     },
     "execution_count": 2,
     "metadata": {},
     "output_type": "execute_result"
    }
   ],
   "source": [
    "def refrescar_arboles():\n",
    "    return pd.read_csv(\"Materiales/arbolado-en-espacios-verdes.csv\")\n",
    "\n",
    "arboles = refrescar_arboles()\n",
    "arboles.dtypes"
   ]
  },
  {
   "cell_type": "markdown",
   "id": "fd76c081-29f0-4567-9386-480484ad8c16",
   "metadata": {},
   "source": [
    "---------\n",
    "\n",
    "### Ejercicio 1\n",
    "\n",
    "Definir una función leer_parque(nombre_archivo, parque) que abra el \n",
    "archivo indicado y devuelva una lista de diccionarios con la información de \r\n",
    "parque especificado. La lista debe tener un diccionario por cada árbol del parq e\r\n",
    "elegido. Dicho diccionario debe tener los datos correspondientes a un ár ol\r\n",
    "(recordar que cada fila del csv corresponde a un árb l).\r\n",
    "Probar la función en el parque ‘GENERAL PAZ’ y debería dar una lista co  690\r\n",
    "á.rboles"
   ]
  },
  {
   "cell_type": "code",
   "execution_count": 3,
   "id": "bc3f40d3-f160-446b-8bd1-73e8a508f3f4",
   "metadata": {},
   "outputs": [
    {
     "name": "stdout",
     "output_type": "stream",
     "text": [
      "690\n"
     ]
    },
    {
     "data": {
      "text/plain": [
       "[{'long': -58.5050933042,\n",
       "  'lat': -34.5675817714,\n",
       "  'id_arbol': 1380,\n",
       "  'altura_tot': 20,\n",
       "  'diametro': 33,\n",
       "  'inclinacio': 5,\n",
       "  'id_especie': 330,\n",
       "  'nombre_com': 'Eucalipto',\n",
       "  'nombre_cie': 'Eucalyptus sp.',\n",
       "  'tipo_folla': 'Árbol Latifoliado Perenne',\n",
       "  'espacio_ve': 'GENERAL PAZ',\n",
       "  'ubicacion': 'LARRALDE, CRISOLOGO, AV. - PAZ, GRAL., AV.- AIZPURUA',\n",
       "  'nombre_fam': 'Mirtáceas',\n",
       "  'nombre_gen': 'Eucalyptus',\n",
       "  'origen': 'Exótico',\n",
       "  'coord_x': 96164.756178,\n",
       "  'coord_y': 106842.465407}]"
      ]
     },
     "execution_count": 3,
     "metadata": {},
     "output_type": "execute_result"
    }
   ],
   "source": [
    "def leer_parque(nombre_archivo, parque):\n",
    "    trees = pd.read_csv(\"Materiales/arbolado-en-espacios-verdes.csv\")\n",
    "    trees = trees[trees['espacio_ve'] == parque]\n",
    "    return trees.to_dict(orient='records')\n",
    "\n",
    "len(leer_parque(\"Materiales/arbolado-en-espacios-verdes.csv\", \"GENERAL PAZ\")) # 690\n",
    "res_ej1 = leer_parque(\"Materiales/arbolado-en-espacios-verdes.csv\", \"GENERAL PAZ\")\n",
    "\n",
    "print(len(leer_parque(\"Materiales/arbolado-en-espacios-verdes.csv\", \"GENERAL PAZ\")))\n",
    "leer_parque(\"Materiales/arbolado-en-espacios-verdes.csv\", \"GENERAL PAZ\")[:1]"
   ]
  },
  {
   "cell_type": "markdown",
   "id": "ad4e5ade-efca-4091-9dbe-34f58ce8fa44",
   "metadata": {},
   "source": [
    "---------\n",
    "\n",
    "### Ejercicio 2\n",
    "\n",
    "Escribir una función especies(lista_arboles) que tome una lista de árboles \n",
    "como la generada en el ejercicio anterior y devuelva el conjunto de especies (l \r\n",
    "columna 'nombre_com' del archivo) que figuran en la list.\r"
   ]
  },
  {
   "cell_type": "code",
   "execution_count": 4,
   "id": "d7540c50-46e7-4d39-ac1f-d36f37683c8d",
   "metadata": {},
   "outputs": [
    {
     "data": {
      "text/plain": [
       "{'Acacia blanca',\n",
       " 'Acacia negra',\n",
       " 'Alcanforero',\n",
       " 'Arce negundo',\n",
       " 'Bunya-bunya (Araucaria de Bidwill)',\n",
       " 'Caqui',\n",
       " 'Casuarina',\n",
       " 'Cedrela',\n",
       " 'Cedro',\n",
       " 'Cedro de San Juan',\n",
       " 'Cedro del Atlas (Cedro plateado o Cedro atlántico)',\n",
       " 'Cedro del Himalaya',\n",
       " 'Cedro del Himalaya variedad aurea',\n",
       " 'Ceibo',\n",
       " 'Chamaecyparis',\n",
       " 'Ciprés',\n",
       " 'Ciprés blanco',\n",
       " 'Ciprés calvo',\n",
       " 'Ciprés leylandi',\n",
       " 'Corona de cristo',\n",
       " 'Criptomeria (Cedro del Japón)',\n",
       " 'Eucalipto',\n",
       " 'Falso Guayabo (Guayaba del Brasil)',\n",
       " 'Fenix',\n",
       " 'Ficus',\n",
       " 'Fotinia',\n",
       " 'Fresno (Fresno común)',\n",
       " 'Fresno americano',\n",
       " 'Ginkgo',\n",
       " 'Jacarandá',\n",
       " 'Juniperus',\n",
       " 'Lapacho rosado',\n",
       " 'Laurel de jardin (Laurel de flor)',\n",
       " 'Laurus',\n",
       " 'Libocedro (Calocedro)',\n",
       " 'Ligustro',\n",
       " 'Ligustro disciplinado (Ligustro variegado)',\n",
       " 'Limpiatubos',\n",
       " 'Liquidambar',\n",
       " 'Macrocarpa (Ciprés de Monterrey o Ciprés de Lambert)',\n",
       " 'Magnolia',\n",
       " 'Morera blanca',\n",
       " 'Morera de papel (Moral de China)',\n",
       " 'Morera negra',\n",
       " 'No Determinable',\n",
       " 'No Determinado',\n",
       " 'Nogal europeo (Nogal común)',\n",
       " 'Níspero japonés',\n",
       " 'Olea',\n",
       " 'Olivo',\n",
       " 'Olivo oloroso',\n",
       " 'Olmo',\n",
       " 'Olmo europeo',\n",
       " 'Ombú',\n",
       " 'Palma Bangalow  (Palma Rey)',\n",
       " 'Palma de california',\n",
       " 'Palmito',\n",
       " 'Palo borracho rosado',\n",
       " 'Paraíso',\n",
       " 'Pindó',\n",
       " 'Pino',\n",
       " 'Pino carrasco (Pino de Jerusalén)',\n",
       " 'Pino de las canarias',\n",
       " 'Pino del Paraná (Pino de Misiones o Pino de Brasil)',\n",
       " 'Plátano',\n",
       " 'Roble',\n",
       " 'Roble americano',\n",
       " 'Roble común',\n",
       " 'Roble sedoso (Grevillea)',\n",
       " 'Sauce eléctrico',\n",
       " 'Tilo',\n",
       " 'Timbó (Oreja de negro)',\n",
       " 'Tipa blanca',\n",
       " 'Tuja',\n",
       " 'Tuya oriental',\n",
       " 'Visco (Viscote, Arca)',\n",
       " 'Washingtonia',\n",
       " 'Washingtonia (Palmera washingtonia)',\n",
       " 'Álamo blanco piramidal',\n",
       " 'Álamo negro',\n",
       " 'Árbol del cielo (Ailanto o Árbol de los dioses)'}"
      ]
     },
     "execution_count": 4,
     "metadata": {},
     "output_type": "execute_result"
    }
   ],
   "source": [
    "def especies(lista_arboles):\n",
    "    '''\n",
    "        lista_arboles: list(dict()), tal como se devuelve en leer_parque(...)\n",
    "        return: set de especies contenidas en lista_arboles\n",
    "    '''\n",
    "    # Opcion 1\n",
    "    trees = pd.DataFrame(lista_arboles)['nombre_com'].unique()\n",
    "    return set(trees)\n",
    "\n",
    "ej2_generalpaz = leer_parque(\"Materiales/arbolado-en-espacios-verdes.csv\", \"GENERAL PAZ\")\n",
    "res_ej2 = especies(ej2_generalpaz)\n",
    "\n",
    "res_ej2"
   ]
  },
  {
   "cell_type": "markdown",
   "id": "595bb5c9-475e-42b7-a6dc-af75b47ba182",
   "metadata": {},
   "source": [
    "---------\n",
    "\n",
    "### Ejercicio 3\n",
    "\n",
    "\n",
    "Escribir una función contar_ejemplares(lista_arboles) que, dada una lista como la generada con leer_parque(...), devuelva un diccionario en el que las especies sean las claves y tengan como valores asociados la cantidad de ejemplares en esa especie en la lista dada. Debería verse que en el parque General Paz hay 20 Jacarandás, en el Parque Los Andes hay 3 Tilos y en Parque Centenario hay 1 Laurel.\n"
   ]
  },
  {
   "cell_type": "code",
   "execution_count": 5,
   "id": "b457694e-4254-4886-892e-7774e0419e92",
   "metadata": {},
   "outputs": [
    {
     "data": {
      "text/plain": [
       "{'Jacarandá': 117,\n",
       " 'Tipa blanca': 28,\n",
       " 'Ciprés': 21,\n",
       " 'Palo borracho rosado': 18,\n",
       " 'Lapacho': 12,\n",
       " 'Pindó': 12,\n",
       " 'Plátano': 12,\n",
       " 'Ligustro': 7,\n",
       " 'Fresno americano': 7,\n",
       " 'Pino': 6,\n",
       " 'Ginkgo': 6,\n",
       " 'Cedro': 5,\n",
       " 'Eucalipto': 5,\n",
       " 'Gomero': 4,\n",
       " 'Pata de vaca  (Pezuña de vaca)': 4,\n",
       " 'Cedro del Himalaya': 4,\n",
       " 'Arce negundo': 4,\n",
       " 'Sófora japónica': 4,\n",
       " 'Aguaribay': 3,\n",
       " 'Acacia': 3,\n",
       " 'Tilo': 3,\n",
       " 'Morera blanca': 3,\n",
       " 'Árbol del cielo (Ailanto o Árbol de los dioses)': 2,\n",
       " 'Pino del Paraná (Pino de Misiones o Pino de Brasil)': 2,\n",
       " 'Acacia frisia': 2,\n",
       " 'Casuarina': 2,\n",
       " 'Pino de las canarias': 2,\n",
       " 'Olmo europeo': 2,\n",
       " 'Acacia blanca': 2,\n",
       " 'Libocedro (Calocedro)': 1,\n",
       " 'Liquidambar': 1,\n",
       " 'Morus': 1,\n",
       " 'Encina': 1,\n",
       " 'Almez (Almecino o Almecina)': 1,\n",
       " 'Álamo plateado': 1,\n",
       " 'Laurel': 1,\n",
       " 'Trachycarpus': 1,\n",
       " 'Fresno (Fresno común)': 1,\n",
       " 'Paraíso': 1,\n",
       " 'Kauri de corteza lisa': 1,\n",
       " 'Ficus': 1,\n",
       " 'Corona de cristo': 1,\n",
       " 'Ciprés calvo': 1}"
      ]
     },
     "execution_count": 5,
     "metadata": {},
     "output_type": "execute_result"
    }
   ],
   "source": [
    "def contar_ejemplares(lista_arboles):\n",
    "    trees = pd.DataFrame(lista_arboles)['nombre_com'].value_counts()\n",
    "    return trees.to_dict()\n",
    "\n",
    "# ej3_generalpaz = leer_parque(\"Materiales/arbolado-en-espacios-verdes.csv\", \"GENERAL PAZ\")\n",
    "ej3_losandes = leer_parque(\"Materiales/arbolado-en-espacios-verdes.csv\", \"ANDES, LOS\")\n",
    "# ej3_centenario = leer_parque(\"Materiales/arbolado-en-espacios-verdes.csv\", \"CENTENARIO\")\n",
    "\n",
    "contar_ejemplares(ej3_losandes)"
   ]
  },
  {
   "cell_type": "markdown",
   "id": "36c4eaec-ece5-4d05-99e8-ba7ac855cf82",
   "metadata": {},
   "source": [
    "---------\n",
    "\n",
    "### Ejercicio 4\n",
    "\n",
    "\n",
    "Escribir una función obtener_alturas(lista_arboles, especie) que, \n",
    "dada una lista como la generada con leer_parque(...) y una especie d \r\n",
    "árbol (un valor de la columna 'nombre_com' del archivo), devuelva una lista c n\r\n",
    "las alturas (columna 'altura_tot') de los ejemplares de esa especie en la lista."
   ]
  },
  {
   "cell_type": "code",
   "execution_count": 6,
   "id": "00be92a0-77b0-4004-8e78-667ea175a9f9",
   "metadata": {},
   "outputs": [
    {
     "name": "stdout",
     "output_type": "stream",
     "text": [
      "En el parque 'GENERAL PAZ' para Jacarandá el máximo es 16 y el promedio es 10.20\n",
      "En el parque 'ANDES, LOS' para Jacarandá el máximo es 25 y el promedio es 10.54\n",
      "En el parque 'CENTENARIO' para Jacarandá el máximo es 18 y el promedio es 8.96\n"
     ]
    }
   ],
   "source": [
    "def obtener_alturas(lista_arboles, especie):\n",
    "    trees = pd.DataFrame(lista_arboles)\n",
    "    res = trees[trees['nombre_com'] == especie]['altura_tot']\n",
    "    return res\n",
    "\n",
    "parques_a_buscar = ['GENERAL PAZ', 'ANDES, LOS', 'CENTENARIO']\n",
    "arbol_a_buscar = 'Jacarandá'\n",
    "for parque in parques_a_buscar:\n",
    "    temp_df = leer_parque(\"Materiales/arbolado-en-espacios-verdes.csv\", parque)\n",
    "    temp_alturas = obtener_alturas(temp_df, arbol_a_buscar)\n",
    "    print(f'En el parque \\'{parque}\\' para {arbol_a_buscar} el máximo es {temp_alturas.max()} y el promedio es {temp_alturas.mean():.2f}')"
   ]
  },
  {
   "cell_type": "code",
   "execution_count": 7,
   "id": "af15a8bd-6ac0-4a05-a562-9cf1bc35dd41",
   "metadata": {},
   "outputs": [
    {
     "data": {
      "text/html": [
       "<div>\n",
       "<style scoped>\n",
       "    .dataframe tbody tr th:only-of-type {\n",
       "        vertical-align: middle;\n",
       "    }\n",
       "\n",
       "    .dataframe tbody tr th {\n",
       "        vertical-align: top;\n",
       "    }\n",
       "\n",
       "    .dataframe thead th {\n",
       "        text-align: right;\n",
       "    }\n",
       "</style>\n",
       "<table border=\"1\" class=\"dataframe\">\n",
       "  <thead>\n",
       "    <tr style=\"text-align: right;\">\n",
       "      <th></th>\n",
       "      <th>GENERAL PAZ</th>\n",
       "      <th>ANDES, LOS</th>\n",
       "      <th>CENTENARIO</th>\n",
       "    </tr>\n",
       "    <tr>\n",
       "      <th>Medida</th>\n",
       "      <th></th>\n",
       "      <th></th>\n",
       "      <th></th>\n",
       "    </tr>\n",
       "  </thead>\n",
       "  <tbody>\n",
       "    <tr>\n",
       "      <th>max</th>\n",
       "      <td>16.0</td>\n",
       "      <td>25.00</td>\n",
       "      <td>18.00</td>\n",
       "    </tr>\n",
       "    <tr>\n",
       "      <th>prom</th>\n",
       "      <td>10.2</td>\n",
       "      <td>10.54</td>\n",
       "      <td>8.96</td>\n",
       "    </tr>\n",
       "  </tbody>\n",
       "</table>\n",
       "</div>"
      ],
      "text/plain": [
       "        GENERAL PAZ  ANDES, LOS  CENTENARIO\n",
       "Medida                                     \n",
       "max            16.0       25.00       18.00\n",
       "prom           10.2       10.54        8.96"
      ]
     },
     "execution_count": 7,
     "metadata": {},
     "output_type": "execute_result"
    }
   ],
   "source": [
    "# Resolución al mismo problema mostrando en tabla (parques_a_buscar y arbol_a_buscar se toman de antes)\n",
    "ej4_res = pd.DataFrame(columns=['Medida'] + parques_a_buscar)\n",
    "ej4_res.set_index(['Medida'], inplace=True)\n",
    "\n",
    "max_list = []\n",
    "prom_list = []\n",
    "\n",
    "for parque in parques_a_buscar:\n",
    "    temp_df = leer_parque(\"Materiales/arbolado-en-espacios-verdes.csv\", parque)\n",
    "    temp_alturas = obtener_alturas(temp_df, arbol_a_buscar)\n",
    "    max_list = max_list + [temp_alturas.max()]\n",
    "    prom_list = prom_list + [round(temp_alturas.mean(), 2)]\n",
    "    # print(f'Para {arbol_a_buscar} el máximo es {temp_alturas.max()} y el promedio es {temp_alturas.mean():.2f}')\n",
    "\n",
    "ej4_res.loc['max'] = max_list\n",
    "ej4_res.loc['prom'] = prom_list\n",
    "\n",
    "ej4_res"
   ]
  },
  {
   "cell_type": "markdown",
   "id": "7dd14b3d-3671-48af-a53d-b87dc3e0a64d",
   "metadata": {},
   "source": [
    "---------\n",
    "\n",
    "### Ejercicio 5\n",
    "\n",
    "Escribir una función obtener_inclinaciones(lista_arboles, especie) que, dada una lista como la generada con leer_parque(...) y una especie de árbol, devuelva una lista con las inclinaciones (columna 'inclinacio') de los ejemplares de esa especie.\r"
   ]
  },
  {
   "cell_type": "code",
   "execution_count": 8,
   "id": "485d5e45-a486-45a0-af3a-52113ceb8383",
   "metadata": {},
   "outputs": [
    {
     "data": {
      "text/plain": [
       "[0, 25, 17, 13, 6, 11, 15, 5, 24, 20]"
      ]
     },
     "execution_count": 8,
     "metadata": {},
     "output_type": "execute_result"
    }
   ],
   "source": [
    "def obtener_inclinaciones(lista_arboles, especie):\n",
    "    trees = pd.DataFrame(lista_arboles)\n",
    "    return list(trees[trees['nombre_com'] == especie]['inclinacio'].unique())\n",
    "\n",
    "ej5_generalpaz = leer_parque(\"Materiales/arbolado-en-espacios-verdes.csv\", \"GENERAL PAZ\")\n",
    "obtener_inclinaciones(ej5_generalpaz, 'Jacarandá')"
   ]
  },
  {
   "cell_type": "markdown",
   "id": "c25db8b0-87a7-4ba8-84c0-118eb69af7a5",
   "metadata": {},
   "source": [
    "---------\n",
    "\n",
    "### Ejercicio 6\n",
    "\n",
    "Combinando la función especies() con obtener_inclinaciones() escribir una función especimen_mas_inclinado(lista_arboles) que, dada una lista de árboles devuelva la especie que tiene el ejemplar más inclinado y su inclinación."
   ]
  },
  {
   "cell_type": "code",
   "execution_count": 19,
   "id": "a6069d3a-5d54-4e18-95ab-1639a5a3cd85",
   "metadata": {},
   "outputs": [
    {
     "data": {
      "text/html": [
       "<div>\n",
       "<style scoped>\n",
       "    .dataframe tbody tr th:only-of-type {\n",
       "        vertical-align: middle;\n",
       "    }\n",
       "\n",
       "    .dataframe tbody tr th {\n",
       "        vertical-align: top;\n",
       "    }\n",
       "\n",
       "    .dataframe thead th {\n",
       "        text-align: right;\n",
       "    }\n",
       "</style>\n",
       "<table border=\"1\" class=\"dataframe\">\n",
       "  <thead>\n",
       "    <tr style=\"text-align: right;\">\n",
       "      <th></th>\n",
       "      <th>Especie más inclinada</th>\n",
       "      <th>Inclinación</th>\n",
       "    </tr>\n",
       "    <tr>\n",
       "      <th>Parque</th>\n",
       "      <th></th>\n",
       "      <th></th>\n",
       "    </tr>\n",
       "  </thead>\n",
       "  <tbody>\n",
       "    <tr>\n",
       "      <th>GENERAL PAZ</th>\n",
       "      <td>[Macrocarpa (Ciprés de Monterrey o Ciprés de L...</td>\n",
       "      <td>70</td>\n",
       "    </tr>\n",
       "    <tr>\n",
       "      <th>ANDES, LOS</th>\n",
       "      <td>[Jacarandá]</td>\n",
       "      <td>30</td>\n",
       "    </tr>\n",
       "    <tr>\n",
       "      <th>CENTENARIO</th>\n",
       "      <td>[Falso Guayabo (Guayaba del Brasil)]</td>\n",
       "      <td>80</td>\n",
       "    </tr>\n",
       "  </tbody>\n",
       "</table>\n",
       "</div>"
      ],
      "text/plain": [
       "                                         Especie más inclinada  Inclinación\n",
       "Parque                                                                     \n",
       "GENERAL PAZ  [Macrocarpa (Ciprés de Monterrey o Ciprés de L...           70\n",
       "ANDES, LOS                                         [Jacarandá]           30\n",
       "CENTENARIO                [Falso Guayabo (Guayaba del Brasil)]           80"
      ]
     },
     "execution_count": 19,
     "metadata": {},
     "output_type": "execute_result"
    }
   ],
   "source": [
    "def especimen_mas_inclinado(lista_arboles):\n",
    "    '''\n",
    "        lista_arboles: list(dict(...)) que contiene arboles\n",
    "        return: lista de dos elementos que tienen la inclinación máxima dentro de lista_arboles: [lista de especies que cumplen (en caso de repetidos), inclinación máxima]\n",
    "    '''\n",
    "    temp_df = pd.DataFrame(lista_arboles)\n",
    "    temp_max = temp_df['inclinacio'].max()\n",
    "    return [temp_df[temp_df['inclinacio'] == temp_max]['nombre_com'].to_list(), temp_max]\n",
    "\n",
    "# Ejecución\n",
    "\n",
    "parques_a_buscar = ['GENERAL PAZ', 'ANDES, LOS', 'CENTENARIO']\n",
    "ej6_res = pd.DataFrame(columns=['Parque', 'Especie más inclinada', 'Inclinación'])\n",
    "ej6_res.set_index(['Parque'], inplace=True)\n",
    "\n",
    "for parque in parques_a_buscar:\n",
    "    temp_df = leer_parque(\"Materiales/arbolado-en-espacios-verdes.csv\", parque)\n",
    "    ej6_res.loc[parque] = especimen_mas_inclinado(temp_df) # es una lista con primer elemento lista de especies y segundo elemento max inclinación\n",
    "\n",
    "ej6_res"
   ]
  },
  {
   "cell_type": "markdown",
   "id": "131f9565-bdf4-4228-84a1-8a15afbf6ee6",
   "metadata": {},
   "source": [
    "---------\n",
    "\n",
    "### Ejercicio 7\n",
    "\n",
    "Volver a combinar las funciones anteriores para escribir la función especie_promedio_mas_inclinada(lista_arboles) que, dada una lista de árboles devuelva la especie que en promedio tiene la mayor inclinación y el promedio calculado.\n"
   ]
  },
  {
   "cell_type": "code",
   "execution_count": 101,
   "id": "3b1f0396-97e0-421f-bb57-f82c5f1f381f",
   "metadata": {},
   "outputs": [
    {
     "data": {
      "text/html": [
       "<div>\n",
       "<style scoped>\n",
       "    .dataframe tbody tr th:only-of-type {\n",
       "        vertical-align: middle;\n",
       "    }\n",
       "\n",
       "    .dataframe tbody tr th {\n",
       "        vertical-align: top;\n",
       "    }\n",
       "\n",
       "    .dataframe thead th {\n",
       "        text-align: right;\n",
       "    }\n",
       "</style>\n",
       "<table border=\"1\" class=\"dataframe\">\n",
       "  <thead>\n",
       "    <tr style=\"text-align: right;\">\n",
       "      <th></th>\n",
       "      <th>Especie más inclinada (en promedio)</th>\n",
       "      <th>Inclinación promedio</th>\n",
       "    </tr>\n",
       "    <tr>\n",
       "      <th>Parque</th>\n",
       "      <th></th>\n",
       "      <th></th>\n",
       "    </tr>\n",
       "  </thead>\n",
       "  <tbody>\n",
       "    <tr>\n",
       "      <th>GENERAL PAZ</th>\n",
       "      <td>[No Determinable]</td>\n",
       "      <td>25.00</td>\n",
       "    </tr>\n",
       "    <tr>\n",
       "      <th>ANDES, LOS</th>\n",
       "      <td>[Álamo plateado]</td>\n",
       "      <td>25.00</td>\n",
       "    </tr>\n",
       "    <tr>\n",
       "      <th>CENTENARIO</th>\n",
       "      <td>[Rosa de Siria]</td>\n",
       "      <td>25.00</td>\n",
       "    </tr>\n",
       "    <tr>\n",
       "      <th>LAGO REGATAS</th>\n",
       "      <td>[Paraíso]</td>\n",
       "      <td>17.86</td>\n",
       "    </tr>\n",
       "    <tr>\n",
       "      <th>SICILIA</th>\n",
       "      <td>[Espinillo (Aromo)]</td>\n",
       "      <td>60.00</td>\n",
       "    </tr>\n",
       "  </tbody>\n",
       "</table>\n",
       "</div>"
      ],
      "text/plain": [
       "             Especie más inclinada (en promedio)  Inclinación promedio\n",
       "Parque                                                                \n",
       "GENERAL PAZ                    [No Determinable]                 25.00\n",
       "ANDES, LOS                      [Álamo plateado]                 25.00\n",
       "CENTENARIO                       [Rosa de Siria]                 25.00\n",
       "LAGO REGATAS                           [Paraíso]                 17.86\n",
       "SICILIA                      [Espinillo (Aromo)]                 60.00"
      ]
     },
     "execution_count": 101,
     "metadata": {},
     "output_type": "execute_result"
    }
   ],
   "source": [
    "def especie_promedio_mas_inclinada(lista_arboles):\n",
    "    '''\n",
    "        Descripción: una función que manualmente calcula, para cada especie, el promedio de inclinación y devuelve la especie con el valor máximo promedio\n",
    "        lista_arboles: list(dict(...)) de arboles (ya prefiltrado por parque)\n",
    "        return: lista de dos elementos que tienen la inclinación promedio máxima dentro de lista_arboles: [lista de especies que cumplen (en caso de repetidos), inclinación promedio máxima]\n",
    "    '''\n",
    "    temp_df = pd.DataFrame(lista_arboles)\n",
    "    temp_especies = list(especies(lista_arboles))\n",
    "    \n",
    "    especie_max_avg_value = temp_df[temp_df['nombre_com'] == temp_especies[0]]['inclinacio'].mean()\n",
    "    especie_max_names = [temp_especies[0]]\n",
    "\n",
    "    for i in range(1, len(temp_especies)):\n",
    "        temp_especie = temp_especies[i]\n",
    "        temp_max = temp_df[temp_df['nombre_com'] == temp_especie]['inclinacio'].mean()\n",
    "        if temp_max > especie_max_avg_value:\n",
    "            especie_max_avg_value = temp_max\n",
    "            especie_max_names = [temp_especie]\n",
    "        elif temp_max == especie_max_avg_value:\n",
    "            especie_max_names.append(temp_especie)\n",
    "\n",
    "    return [especie_max_names, especie_max_avg_value.round(2)]\n",
    "\n",
    "# Ejecución\n",
    "\n",
    "parques_a_buscar = ['GENERAL PAZ', 'ANDES, LOS', 'CENTENARIO', 'LAGO REGATAS', 'SICILIA']\n",
    "ej7_res = pd.DataFrame(columns=['Parque', 'Especie más inclinada (en promedio)', 'Inclinación promedio'])\n",
    "ej7_res.set_index(['Parque'], inplace=True)\n",
    "\n",
    "for parque in parques_a_buscar:\n",
    "    temp_df = pd.DataFrame(leer_parque(\"Materiales/arbolado-en-espacios-verdes.csv\", parque))\n",
    "    ej7_res.loc[parque] = especie_promedio_mas_inclinada(temp_df) # es una lista con primer elemento lista de especies y segundo elemento max inclinación promedio\n",
    "\n",
    "ej7_res"
   ]
  },
  {
   "cell_type": "markdown",
   "id": "2c3ad78e-8240-4518-b692-7b54390916df",
   "metadata": {},
   "source": [
    "##### Resolución alternativa usando GROUP BY"
   ]
  },
  {
   "cell_type": "code",
   "execution_count": 102,
   "id": "f619c9b6-ed51-48b6-bb9b-99c5f2a6811a",
   "metadata": {},
   "outputs": [
    {
     "data": {
      "text/html": [
       "<div>\n",
       "<style scoped>\n",
       "    .dataframe tbody tr th:only-of-type {\n",
       "        vertical-align: middle;\n",
       "    }\n",
       "\n",
       "    .dataframe tbody tr th {\n",
       "        vertical-align: top;\n",
       "    }\n",
       "\n",
       "    .dataframe thead th {\n",
       "        text-align: right;\n",
       "    }\n",
       "</style>\n",
       "<table border=\"1\" class=\"dataframe\">\n",
       "  <thead>\n",
       "    <tr style=\"text-align: right;\">\n",
       "      <th></th>\n",
       "      <th>Especie más inclinada (en promedio)</th>\n",
       "      <th>Inclinación promedio</th>\n",
       "    </tr>\n",
       "    <tr>\n",
       "      <th>Parque</th>\n",
       "      <th></th>\n",
       "      <th></th>\n",
       "    </tr>\n",
       "  </thead>\n",
       "  <tbody>\n",
       "    <tr>\n",
       "      <th>GENERAL PAZ</th>\n",
       "      <td>[No Determinable]</td>\n",
       "      <td>25.00</td>\n",
       "    </tr>\n",
       "    <tr>\n",
       "      <th>ANDES, LOS</th>\n",
       "      <td>[Álamo plateado]</td>\n",
       "      <td>25.00</td>\n",
       "    </tr>\n",
       "    <tr>\n",
       "      <th>CENTENARIO</th>\n",
       "      <td>[Rosa de Siria]</td>\n",
       "      <td>25.00</td>\n",
       "    </tr>\n",
       "    <tr>\n",
       "      <th>LAGO REGATAS</th>\n",
       "      <td>[Paraíso]</td>\n",
       "      <td>17.86</td>\n",
       "    </tr>\n",
       "    <tr>\n",
       "      <th>SICILIA</th>\n",
       "      <td>[Espinillo (Aromo)]</td>\n",
       "      <td>60.00</td>\n",
       "    </tr>\n",
       "  </tbody>\n",
       "</table>\n",
       "</div>"
      ],
      "text/plain": [
       "             Especie más inclinada (en promedio)  Inclinación promedio\n",
       "Parque                                                                \n",
       "GENERAL PAZ                    [No Determinable]                 25.00\n",
       "ANDES, LOS                      [Álamo plateado]                 25.00\n",
       "CENTENARIO                       [Rosa de Siria]                 25.00\n",
       "LAGO REGATAS                           [Paraíso]                 17.86\n",
       "SICILIA                      [Espinillo (Aromo)]                 60.00"
      ]
     },
     "execution_count": 102,
     "metadata": {},
     "output_type": "execute_result"
    }
   ],
   "source": [
    "parques_a_buscar = ['GENERAL PAZ', 'ANDES, LOS', 'CENTENARIO', 'LAGO REGATAS', 'SICILIA']\n",
    "ej7_alt_res = pd.DataFrame(columns=['Parque', 'Especie más inclinada (en promedio)', 'Inclinación promedio'])\n",
    "ej7_alt_res.set_index(['Parque'], inplace=True)\n",
    "\n",
    "for parque in parques_a_buscar:\n",
    "    temp_df = pd.DataFrame(leer_parque(\"Materiales/arbolado-en-espacios-verdes.csv\", parque))\n",
    "    temp_res = temp_df.groupby(by=['nombre_com'])['inclinacio'].mean().sort_values(ascending=False).head(1)\n",
    "    ej7_alt_res.loc[parque] = [temp_res.index.to_list(), temp_res.iloc[0].round(2)]\n",
    "\n",
    "ej7_alt_res"
   ]
  },
  {
   "cell_type": "code",
   "execution_count": null,
   "id": "fd321ee7-cea7-4fb9-be62-d8e8cfa19a99",
   "metadata": {},
   "outputs": [],
   "source": []
  },
  {
   "cell_type": "markdown",
   "id": "e0b92245-37c8-4717-8409-694d55df1f12",
   "metadata": {},
   "source": [
    "#### Análisis sobre datos de árboles en CABA\n",
    "\n",
    "Dataset usado: [Arbolado en veredas](https://data.buenosaires.gob.ar/dataset/arbolado-publico-lineal)\n",
    "\n",
    "-------"
   ]
  },
  {
   "cell_type": "code",
   "execution_count": 121,
   "id": "55319b75-7168-46dc-a62d-887192247d25",
   "metadata": {},
   "outputs": [
    {
     "name": "stderr",
     "output_type": "stream",
     "text": [
      "C:\\Users\\Matias\\AppData\\Local\\Temp\\ipykernel_12244\\1522486272.py:3: DtypeWarning: Columns (2,7,8) have mixed types. Specify dtype option on import or set low_memory=False.\n",
      "  data_arboles_veredas = pd.read_csv('Materiales/arbolado-en-veredas.csv')\n"
     ]
    }
   ],
   "source": [
    "### Preparación de datos\n",
    "\n",
    "data_arboles_veredas = pd.read_csv('Materiales/arbolado-en-veredas.csv')\n",
    "data_arboles_veredas = data_arboles_veredas[['nombre_cientifico', 'ancho_acera', 'diametro_altura_pecho', 'altura_arbol']]\n",
    "# data_arboles_veredas.info()\n",
    "\n",
    "especies_seleccionadas = ['Tilia x moltkei', 'Jacaranda mimosifolia', 'Tipuana tipu']\n",
    "\n",
    "# Copiamos los datasets para empezar a trabajarlos\n",
    "df_tipas_parques = arboles[['nombre_cie', 'diametro', 'altura_tot']].copy()\n",
    "df_tipas_parques.columns = ['nombre_cientifico', 'diametro_altura_pecho', 'altura_arbol'] # lo saqué de hacer df_tipas_veredas.columns\n",
    "\n",
    "df_tipas_veredas = data_arboles_veredas.copy()"
   ]
  },
  {
   "cell_type": "code",
   "execution_count": 122,
   "id": "51199a5e-11d3-44a1-a683-afab26e4d3b7",
   "metadata": {},
   "outputs": [],
   "source": [
    "# Visualización de datos"
   ]
  },
  {
   "cell_type": "code",
   "execution_count": 124,
   "id": "c95b641f-b62f-48e6-bc78-9c7481329ca7",
   "metadata": {},
   "outputs": [
    {
     "data": {
      "text/html": [
       "<div>\n",
       "<style scoped>\n",
       "    .dataframe tbody tr th:only-of-type {\n",
       "        vertical-align: middle;\n",
       "    }\n",
       "\n",
       "    .dataframe tbody tr th {\n",
       "        vertical-align: top;\n",
       "    }\n",
       "\n",
       "    .dataframe thead th {\n",
       "        text-align: right;\n",
       "    }\n",
       "</style>\n",
       "<table border=\"1\" class=\"dataframe\">\n",
       "  <thead>\n",
       "    <tr style=\"text-align: right;\">\n",
       "      <th></th>\n",
       "      <th>diametro_altura_pecho</th>\n",
       "      <th>altura_arbol</th>\n",
       "    </tr>\n",
       "  </thead>\n",
       "  <tbody>\n",
       "    <tr>\n",
       "      <th>count</th>\n",
       "      <td>51502.000000</td>\n",
       "      <td>51502.000000</td>\n",
       "    </tr>\n",
       "    <tr>\n",
       "      <th>mean</th>\n",
       "      <td>39.395616</td>\n",
       "      <td>12.167100</td>\n",
       "    </tr>\n",
       "    <tr>\n",
       "      <th>std</th>\n",
       "      <td>31.171205</td>\n",
       "      <td>7.640309</td>\n",
       "    </tr>\n",
       "    <tr>\n",
       "      <th>min</th>\n",
       "      <td>1.000000</td>\n",
       "      <td>0.000000</td>\n",
       "    </tr>\n",
       "    <tr>\n",
       "      <th>25%</th>\n",
       "      <td>18.000000</td>\n",
       "      <td>6.000000</td>\n",
       "    </tr>\n",
       "    <tr>\n",
       "      <th>50%</th>\n",
       "      <td>32.000000</td>\n",
       "      <td>11.000000</td>\n",
       "    </tr>\n",
       "    <tr>\n",
       "      <th>75%</th>\n",
       "      <td>54.000000</td>\n",
       "      <td>18.000000</td>\n",
       "    </tr>\n",
       "    <tr>\n",
       "      <th>max</th>\n",
       "      <td>500.000000</td>\n",
       "      <td>54.000000</td>\n",
       "    </tr>\n",
       "  </tbody>\n",
       "</table>\n",
       "</div>"
      ],
      "text/plain": [
       "       diametro_altura_pecho  altura_arbol\n",
       "count           51502.000000  51502.000000\n",
       "mean               39.395616     12.167100\n",
       "std                31.171205      7.640309\n",
       "min                 1.000000      0.000000\n",
       "25%                18.000000      6.000000\n",
       "50%                32.000000     11.000000\n",
       "75%                54.000000     18.000000\n",
       "max               500.000000     54.000000"
      ]
     },
     "execution_count": 124,
     "metadata": {},
     "output_type": "execute_result"
    }
   ],
   "source": [
    "df_tipas_parques.describe()"
   ]
  },
  {
   "cell_type": "code",
   "execution_count": 114,
   "id": "df6c4c1d-8a5e-454d-a1f9-6e39e74c8067",
   "metadata": {},
   "outputs": [
    {
     "data": {
      "text/html": [
       "<div>\n",
       "<style scoped>\n",
       "    .dataframe tbody tr th:only-of-type {\n",
       "        vertical-align: middle;\n",
       "    }\n",
       "\n",
       "    .dataframe tbody tr th {\n",
       "        vertical-align: top;\n",
       "    }\n",
       "\n",
       "    .dataframe thead th {\n",
       "        text-align: right;\n",
       "    }\n",
       "</style>\n",
       "<table border=\"1\" class=\"dataframe\">\n",
       "  <thead>\n",
       "    <tr style=\"text-align: right;\">\n",
       "      <th></th>\n",
       "      <th>diametro_altura_pecho</th>\n",
       "      <th>altura_arbol</th>\n",
       "    </tr>\n",
       "  </thead>\n",
       "  <tbody>\n",
       "    <tr>\n",
       "      <th>count</th>\n",
       "      <td>369894.000000</td>\n",
       "      <td>365858.000000</td>\n",
       "    </tr>\n",
       "    <tr>\n",
       "      <th>mean</th>\n",
       "      <td>31.986864</td>\n",
       "      <td>9.036132</td>\n",
       "    </tr>\n",
       "    <tr>\n",
       "      <th>std</th>\n",
       "      <td>21.267623</td>\n",
       "      <td>4.894625</td>\n",
       "    </tr>\n",
       "    <tr>\n",
       "      <th>min</th>\n",
       "      <td>0.000000</td>\n",
       "      <td>1.000000</td>\n",
       "    </tr>\n",
       "    <tr>\n",
       "      <th>25%</th>\n",
       "      <td>17.000000</td>\n",
       "      <td>6.000000</td>\n",
       "    </tr>\n",
       "    <tr>\n",
       "      <th>50%</th>\n",
       "      <td>29.000000</td>\n",
       "      <td>8.000000</td>\n",
       "    </tr>\n",
       "    <tr>\n",
       "      <th>75%</th>\n",
       "      <td>43.000000</td>\n",
       "      <td>12.000000</td>\n",
       "    </tr>\n",
       "    <tr>\n",
       "      <th>max</th>\n",
       "      <td>199.000000</td>\n",
       "      <td>40.000000</td>\n",
       "    </tr>\n",
       "  </tbody>\n",
       "</table>\n",
       "</div>"
      ],
      "text/plain": [
       "       diametro_altura_pecho   altura_arbol\n",
       "count          369894.000000  365858.000000\n",
       "mean               31.986864       9.036132\n",
       "std                21.267623       4.894625\n",
       "min                 0.000000       1.000000\n",
       "25%                17.000000       6.000000\n",
       "50%                29.000000       8.000000\n",
       "75%                43.000000      12.000000\n",
       "max               199.000000      40.000000"
      ]
     },
     "execution_count": 114,
     "metadata": {},
     "output_type": "execute_result"
    }
   ],
   "source": [
    "df_tipas_veredas.describe()"
   ]
  },
  {
   "cell_type": "markdown",
   "id": "1fd41334-1f57-46e0-a680-a9b65e419884",
   "metadata": {},
   "source": [
    "#### Comparamos los nombres cientificos en ambos datasets y unificamos\n",
    "\n",
    "En este caso, vemos que los nombres ['Tilia x moltkei', 'Jacarandá mimosifolia', 'Tipuana tipu'] se ven en el primer dataset como []\n",
    "\n",
    "-------"
   ]
  },
  {
   "cell_type": "code",
   "execution_count": 144,
   "id": "5f603f13-87ae-4f5b-be36-2dcfd32cc24e",
   "metadata": {},
   "outputs": [],
   "source": [
    "df_tipas_parques[df_tipas_parques['nombre_cientifico'].str.contains('oltkei')]['nombre_cientifico'].unique()\n",
    "\n",
    "# Cambiamos los valores\n",
    "df_tipas_parques.loc[df_tipas_parques['nombre_cientifico'].str.contains('oltkei'), 'nombre_cientifico'] = 'Tilia x moltkei'\n",
    "df_tipas_parques.loc[df_tipas_parques['nombre_cientifico'].str.contains('acarand'), 'nombre_cientifico'] = 'Jacaranda mimosifolia'\n",
    "df_tipas_parques.loc[df_tipas_parques['nombre_cientifico'].str.contains('ipuan'), 'nombre_cientifico'] = 'Tipuana tipu'"
   ]
  },
  {
   "cell_type": "code",
   "execution_count": 159,
   "id": "2f81ceb0-5f75-430d-8a48-45dabb1ef376",
   "metadata": {},
   "outputs": [
    {
     "data": {
      "text/plain": [
       "True"
      ]
     },
     "execution_count": 159,
     "metadata": {},
     "output_type": "execute_result"
    }
   ],
   "source": [
    "# Chequeamos que ambos datasets están con valores unificados de especies_seleccionadas\n",
    "res = True\n",
    "\n",
    "for esp in especies_seleccionadas:\n",
    "    res = res and (df_tipas_parques['nombre_cientifico'] == esp).any() and (df_tipas_veredas['nombre_cientifico'] == esp).any()\n",
    "\n",
    "res"
   ]
  },
  {
   "cell_type": "code",
   "execution_count": null,
   "id": "bda475f9-311d-40a3-8abb-37fd6bfb849c",
   "metadata": {},
   "outputs": [],
   "source": [
    "# Ejercicio 9"
   ]
  },
  {
   "cell_type": "code",
   "execution_count": 169,
   "id": "ab2cfd5c-6a50-43c1-8dcb-fe70a2dd1388",
   "metadata": {},
   "outputs": [],
   "source": [
    "# df_tipas_parques['ambiente'] = pd.Series(['parques']*df_tipas_parques.shape[0])\n",
    "df_tipas_parques['ambiente'] = 'parque'\n",
    "df_tipas_veredas['ambiente'] = 'vereda'"
   ]
  },
  {
   "cell_type": "code",
   "execution_count": 173,
   "id": "0609a01a-2985-45eb-af58-f248f2089aa5",
   "metadata": {},
   "outputs": [],
   "source": [
    "# Ejercicio 10"
   ]
  },
  {
   "cell_type": "code",
   "execution_count": 170,
   "id": "fd2ff697-6d8f-4c2a-8ac5-e76bc322dce9",
   "metadata": {},
   "outputs": [],
   "source": [
    "df_tipas_global = pd.concat([df_tipas_parques, df_tipas_veredas])"
   ]
  },
  {
   "cell_type": "code",
   "execution_count": 171,
   "id": "44428a6c-652c-4fdd-9d94-4c594050f43f",
   "metadata": {},
   "outputs": [
    {
     "data": {
      "text/html": [
       "<div>\n",
       "<style scoped>\n",
       "    .dataframe tbody tr th:only-of-type {\n",
       "        vertical-align: middle;\n",
       "    }\n",
       "\n",
       "    .dataframe tbody tr th {\n",
       "        vertical-align: top;\n",
       "    }\n",
       "\n",
       "    .dataframe thead th {\n",
       "        text-align: right;\n",
       "    }\n",
       "</style>\n",
       "<table border=\"1\" class=\"dataframe\">\n",
       "  <thead>\n",
       "    <tr style=\"text-align: right;\">\n",
       "      <th></th>\n",
       "      <th>nombre_cientifico</th>\n",
       "      <th>diametro_altura_pecho</th>\n",
       "      <th>altura_arbol</th>\n",
       "      <th>ambiente</th>\n",
       "      <th>ancho_acera</th>\n",
       "    </tr>\n",
       "  </thead>\n",
       "  <tbody>\n",
       "    <tr>\n",
       "      <th>0</th>\n",
       "      <td>Washingtonia filifera</td>\n",
       "      <td>35.0</td>\n",
       "      <td>6.0</td>\n",
       "      <td>parque</td>\n",
       "      <td>NaN</td>\n",
       "    </tr>\n",
       "    <tr>\n",
       "      <th>1</th>\n",
       "      <td>Washingtonia filifera</td>\n",
       "      <td>35.0</td>\n",
       "      <td>6.0</td>\n",
       "      <td>parque</td>\n",
       "      <td>NaN</td>\n",
       "    </tr>\n",
       "    <tr>\n",
       "      <th>2</th>\n",
       "      <td>Washingtonia filifera</td>\n",
       "      <td>35.0</td>\n",
       "      <td>6.0</td>\n",
       "      <td>parque</td>\n",
       "      <td>NaN</td>\n",
       "    </tr>\n",
       "    <tr>\n",
       "      <th>3</th>\n",
       "      <td>Phytolacca dioica</td>\n",
       "      <td>50.0</td>\n",
       "      <td>17.0</td>\n",
       "      <td>parque</td>\n",
       "      <td>NaN</td>\n",
       "    </tr>\n",
       "    <tr>\n",
       "      <th>4</th>\n",
       "      <td>Phytolacca dioica</td>\n",
       "      <td>50.0</td>\n",
       "      <td>17.0</td>\n",
       "      <td>parque</td>\n",
       "      <td>NaN</td>\n",
       "    </tr>\n",
       "    <tr>\n",
       "      <th>...</th>\n",
       "      <td>...</td>\n",
       "      <td>...</td>\n",
       "      <td>...</td>\n",
       "      <td>...</td>\n",
       "      <td>...</td>\n",
       "    </tr>\n",
       "    <tr>\n",
       "      <th>370175</th>\n",
       "      <td>Ceiba speciosa</td>\n",
       "      <td>34.0</td>\n",
       "      <td>7.0</td>\n",
       "      <td>vereda</td>\n",
       "      <td>3.3</td>\n",
       "    </tr>\n",
       "    <tr>\n",
       "      <th>370176</th>\n",
       "      <td>Melia azedarach</td>\n",
       "      <td>45.0</td>\n",
       "      <td>8.0</td>\n",
       "      <td>vereda</td>\n",
       "      <td>3.3</td>\n",
       "    </tr>\n",
       "    <tr>\n",
       "      <th>370177</th>\n",
       "      <td>Ceiba speciosa</td>\n",
       "      <td>60.0</td>\n",
       "      <td>8.0</td>\n",
       "      <td>vereda</td>\n",
       "      <td>3.3</td>\n",
       "    </tr>\n",
       "    <tr>\n",
       "      <th>370178</th>\n",
       "      <td>Ceiba speciosa</td>\n",
       "      <td>64.0</td>\n",
       "      <td>8.0</td>\n",
       "      <td>vereda</td>\n",
       "      <td>3.3</td>\n",
       "    </tr>\n",
       "    <tr>\n",
       "      <th>370179</th>\n",
       "      <td>Ceiba speciosa</td>\n",
       "      <td>61.0</td>\n",
       "      <td>8.0</td>\n",
       "      <td>vereda</td>\n",
       "      <td>3.3</td>\n",
       "    </tr>\n",
       "  </tbody>\n",
       "</table>\n",
       "<p>421682 rows × 5 columns</p>\n",
       "</div>"
      ],
      "text/plain": [
       "            nombre_cientifico  diametro_altura_pecho  altura_arbol ambiente  \\\n",
       "0       Washingtonia filifera                   35.0           6.0   parque   \n",
       "1       Washingtonia filifera                   35.0           6.0   parque   \n",
       "2       Washingtonia filifera                   35.0           6.0   parque   \n",
       "3           Phytolacca dioica                   50.0          17.0   parque   \n",
       "4           Phytolacca dioica                   50.0          17.0   parque   \n",
       "...                       ...                    ...           ...      ...   \n",
       "370175         Ceiba speciosa                   34.0           7.0   vereda   \n",
       "370176        Melia azedarach                   45.0           8.0   vereda   \n",
       "370177         Ceiba speciosa                   60.0           8.0   vereda   \n",
       "370178         Ceiba speciosa                   64.0           8.0   vereda   \n",
       "370179         Ceiba speciosa                   61.0           8.0   vereda   \n",
       "\n",
       "       ancho_acera  \n",
       "0              NaN  \n",
       "1              NaN  \n",
       "2              NaN  \n",
       "3              NaN  \n",
       "4              NaN  \n",
       "...            ...  \n",
       "370175         3.3  \n",
       "370176         3.3  \n",
       "370177         3.3  \n",
       "370178         3.3  \n",
       "370179         3.3  \n",
       "\n",
       "[421682 rows x 5 columns]"
      ]
     },
     "execution_count": 171,
     "metadata": {},
     "output_type": "execute_result"
    }
   ],
   "source": [
    "df_tipas_global"
   ]
  },
  {
   "cell_type": "markdown",
   "id": "02a74b4c-2d2a-4636-8e2e-f248958a9a12",
   "metadata": {},
   "source": [
    "## Ejercicio 11 - Experimentación y análisis\n",
    "\n",
    "--------\n",
    "\n",
    "#### Posibles preguntas:\n",
    "- Hay alguna diferencia de altura entre árboles de parques y de veredas?\n",
    "- Hay alguna diferencia de diámetro entre árboles de parques y de veredas?\n",
    "- Hay alguna relación entre altura y diámetro que sea constante entre ambos datasets? (comparar coeficientes: dos números)\n"
   ]
  },
  {
   "cell_type": "code",
   "execution_count": 175,
   "id": "46e81c29-ff0a-4e1a-91d2-c4bd10fffe33",
   "metadata": {},
   "outputs": [
    {
     "data": {
      "text/html": [
       "<div>\n",
       "<style scoped>\n",
       "    .dataframe tbody tr th:only-of-type {\n",
       "        vertical-align: middle;\n",
       "    }\n",
       "\n",
       "    .dataframe tbody tr th {\n",
       "        vertical-align: top;\n",
       "    }\n",
       "\n",
       "    .dataframe thead th {\n",
       "        text-align: right;\n",
       "    }\n",
       "</style>\n",
       "<table border=\"1\" class=\"dataframe\">\n",
       "  <thead>\n",
       "    <tr style=\"text-align: right;\">\n",
       "      <th></th>\n",
       "      <th>diametro_altura_pecho</th>\n",
       "      <th>altura_arbol</th>\n",
       "    </tr>\n",
       "  </thead>\n",
       "  <tbody>\n",
       "    <tr>\n",
       "      <th>count</th>\n",
       "      <td>421396.000000</td>\n",
       "      <td>417360.000000</td>\n",
       "    </tr>\n",
       "    <tr>\n",
       "      <th>mean</th>\n",
       "      <td>32.892344</td>\n",
       "      <td>9.422491</td>\n",
       "    </tr>\n",
       "    <tr>\n",
       "      <th>std</th>\n",
       "      <td>22.840091</td>\n",
       "      <td>5.409683</td>\n",
       "    </tr>\n",
       "    <tr>\n",
       "      <th>min</th>\n",
       "      <td>0.000000</td>\n",
       "      <td>0.000000</td>\n",
       "    </tr>\n",
       "    <tr>\n",
       "      <th>25%</th>\n",
       "      <td>17.000000</td>\n",
       "      <td>6.000000</td>\n",
       "    </tr>\n",
       "    <tr>\n",
       "      <th>50%</th>\n",
       "      <td>29.000000</td>\n",
       "      <td>9.000000</td>\n",
       "    </tr>\n",
       "    <tr>\n",
       "      <th>75%</th>\n",
       "      <td>45.000000</td>\n",
       "      <td>12.000000</td>\n",
       "    </tr>\n",
       "    <tr>\n",
       "      <th>max</th>\n",
       "      <td>500.000000</td>\n",
       "      <td>54.000000</td>\n",
       "    </tr>\n",
       "  </tbody>\n",
       "</table>\n",
       "</div>"
      ],
      "text/plain": [
       "       diametro_altura_pecho   altura_arbol\n",
       "count          421396.000000  417360.000000\n",
       "mean               32.892344       9.422491\n",
       "std                22.840091       5.409683\n",
       "min                 0.000000       0.000000\n",
       "25%                17.000000       6.000000\n",
       "50%                29.000000       9.000000\n",
       "75%                45.000000      12.000000\n",
       "max               500.000000      54.000000"
      ]
     },
     "execution_count": 175,
     "metadata": {},
     "output_type": "execute_result"
    }
   ],
   "source": [
    "df_tipas_global.describe()"
   ]
  },
  {
   "cell_type": "code",
   "execution_count": 176,
   "id": "329a822c-c766-4a29-9991-eb421d01ca92",
   "metadata": {},
   "outputs": [
    {
     "data": {
      "text/plain": [
       "['Tilia x moltkei', 'Jacaranda mimosifolia', 'Tipuana tipu']"
      ]
     },
     "execution_count": 176,
     "metadata": {},
     "output_type": "execute_result"
    }
   ],
   "source": [
    "especies_seleccionadas"
   ]
  },
  {
   "cell_type": "markdown",
   "id": "f897bcec-ff9f-4c92-ae9b-113f90a07465",
   "metadata": {},
   "source": [
    "#### ¿Hay diferencia de alturas entre árboles de parques y veredas?\n",
    "\n"
   ]
  },
  {
   "cell_type": "code",
   "execution_count": 179,
   "id": "a97c6f0f-ab07-4eb8-9f8e-6b225ad4b8ad",
   "metadata": {},
   "outputs": [
    {
     "ename": "NameError",
     "evalue": "name 'alturas_vereda' is not defined",
     "output_type": "error",
     "traceback": [
      "\u001b[1;31m---------------------------------------------------------------------------\u001b[0m",
      "\u001b[1;31mNameError\u001b[0m                                 Traceback (most recent call last)",
      "Cell \u001b[1;32mIn[179], line 1\u001b[0m\n\u001b[1;32m----> 1\u001b[0m alturas_vereda\n",
      "\u001b[1;31mNameError\u001b[0m: name 'alturas_vereda' is not defined"
     ]
    }
   ],
   "source": [
    "alturas_vereda"
   ]
  },
  {
   "cell_type": "code",
   "execution_count": 198,
   "id": "7af72e22-5df8-4459-b174-7e8f5b39d293",
   "metadata": {},
   "outputs": [
    {
     "data": {
      "text/plain": [
       "Text(0.5, 1.0, 'My pretty hist')"
      ]
     },
     "execution_count": 198,
     "metadata": {},
     "output_type": "execute_result"
    },
    {
     "data": {
      "image/png": "[encoded data removed]",
      "text/plain": [
       "<Figure size 1600x1000 with 1 Axes>"
      ]
     },
     "metadata": {},
     "output_type": "display_data"
    }
   ],
   "source": [
    "# Altura promedio (todos los arboles)\n",
    "# Altura std\n",
    "\n",
    "# Altura promedio (por especie)\n",
    "\n",
    "# df_tipas_parques\n",
    "\n",
    "alturas_parque = df_tipas_global[(df_tipas_global['ambiente'] == 'parque') & (df_tipas_global['nombre_cientifico'] == 'Tipuana tipu')]['altura_arbol']\n",
    "alturas_vereda = df_tipas_global[(df_tipas_global['ambiente'] == 'vereda') & (df_tipas_global['nombre_cientifico'] == 'Tipuana tipu')]['altura_arbol']\n",
    "\n",
    "#alturas_vereda\n",
    "\n",
    "plt.figure(figsize=(16, 10))\n",
    "plt.hist(alturas_parque, bins=20, alpha=0.4, density=True, label='Initial model')\n",
    "plt.hist(alturas_vereda, bins=20, alpha=0.4,  density=True, facecolor='green', label='Alternative model')\n",
    "plt.axvline(alturas_parque.median(), 0, 1, label='Initial model mean metric', linestyle='dashed')\n",
    "\n",
    "\n",
    "        # plt.xlabel(self.metric, fontsize=16)\n",
    "        # plt.ylabel('% of evidence', fontsize=16)\n",
    "# plt.title('Distribution of {} score'.format(self.metric), fontsize=18)\n",
    "plt.legend()\n",
    "        # plt.show()\n",
    "\n",
    "plt.title('My pretty hist')"
   ]
  },
  {
   "cell_type": "code",
   "execution_count": null,
   "id": "44be1b47-78a2-4d82-abaf-df4a5753b4d8",
   "metadata": {},
   "outputs": [],
   "source": []
  },
  {
   "cell_type": "code",
   "execution_count": null,
   "id": "0a817bb6-438b-4423-ba9e-fe60e97d6394",
   "metadata": {},
   "outputs": [],
   "source": []
  },
  {
   "cell_type": "code",
   "execution_count": null,
   "id": "89e168bb-3aa5-4666-8fd7-b4cfcbc21b70",
   "metadata": {},
   "outputs": [],
   "source": []
  },
  {
   "cell_type": "code",
   "execution_count": null,
   "id": "f4b5e981-88bb-4b7c-911b-c7ab42300e8b",
   "metadata": {},
   "outputs": [],
   "source": []
  },
  {
   "cell_type": "code",
   "execution_count": null,
   "id": "aa7068e3-3b9d-4aa8-906e-559993394ca4",
   "metadata": {},
   "outputs": [],
   "source": []
  }
 ],
 "metadata": {
  "kernelspec": {
   "display_name": "Python 3 (ipykernel)",
   "language": "python",
   "name": "python3"
  },
  "language_info": {
   "codemirror_mode": {
    "name": "ipython",
    "version": 3
   },
   "file_extension": ".py",
   "mimetype": "text/x-python",
   "name": "python",
   "nbconvert_exporter": "python",
   "pygments_lexer": "ipython3",
   "version": "3.12.4"
  }
 },
 "nbformat": 4,
 "nbformat_minor": 5
}
